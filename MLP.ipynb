{
 "cells": [
  {
   "cell_type": "markdown",
   "metadata": {},
   "source": [
    "### 1. 신경망과 퍼셉트론"
   ]
  },
  {
   "cell_type": "markdown",
   "metadata": {},
   "source": [
    "인공신경망은 사람의 뇌를 모방하여 인공지능을 구현하려는 컴퓨터 프로그램이다.\n",
    "사람의 뇌는 뉴런(neuron)으로 이루어져 있고, 이는 입력(Dendrite), 계산(Soma), 출력(Axon) 기능을 가진 정보처리기관으로 볼 수 있다. 이전 neuron의 axon과 현재 neuron의 dendrite 부분이 만나는 곳에 작은 간극인 synapse가 존재하고, 세포체 soma에서는 들어온 정보가 역치 이상이면 발화한다. 이렇게 발화한 neuron은 axon을 통해 다음 neuron에게 정보를 전달한다. \n",
    "\n",
    "<img src=\"https://media.geeksforgeeks.org/wp-content/uploads/20230410104038/Artificial-Neural-Networks.webp\" height=\"250px\" width=\"500px\">\n",
    "\n",
    "퍼셉트론(Perceptron)은 미국의 심리학자인 Frank Rosenblatt이 1958년에 구현한 인공신경망으로, 여러개의 인공신경세포(artificial neuron)로 구성되어 있다. 인공신경세포는 신경세포의 정보처리 방식과 작동 원리가 유사하다. $x$는 입력값을 의미하며, $w$는 가중치(Weight), $y$는 출력값이다. 각각의 뉴런으로부터 오는 정보 $x_1, x_2, ..., x_n$와 시냅스 역할을 하는 가중치 $w_1, w_2,..., w_n$이 곱해져서 인공 뉴런에 보내지고, 이때 활성화 함수(activation function)를 덧붙여서 역치에 따라 발화 여부를 결정한다. 각 입력값과 그에 해당되는 가중치의 곱의 전체 합이 임계치(threshold)를 넘으면 종착지에 있는 인공 뉴런은 출력 신호로서 1을 출력하고, 그렇지 않을 경우에는 0을 출력한다. 이러한 함수를 계단 함수(Step function)라고 한다.\n",
    "\n",
    "신경망의 학습은 연결가중치 weight 값을 변화시키는 것을 의미한다. 실제값($y$)과 예측값($y'$)의 차이(오차)를 최소화 하도록 퍼셉트론의 연결강도를 조절하는 것을 학습(learning)이라고 한다."
   ]
  },
  {
   "cell_type": "markdown",
   "metadata": {},
   "source": [
    "### 2. 다층 퍼셉트론(MLP)와 모델 실습"
   ]
  },
  {
   "cell_type": "markdown",
   "metadata": {},
   "source": [
    "##### 다층 신경망(Multi-Layer Perceptron)\n",
    "\n",
    "퍼셉트론은 2차원 평면을 분할하는 1차원 함수의 기울기와 절편을 점진적으로 찾아가는 인공신경망 모델로도 볼 수 있다. 따라서 퍼셉트론은 선형분리가 불가능한 데이터셋을 학습할 수 없다는 한계가 있다. 대표적으로 XOR 게이트는 입력값 두 개가 서로 다른 값을 갖고 있을 때에만 출력값이 1이 되고, 입력값 두개가 서로 같은 값을 가지면 출력값이 0이 되는 게이트다. 단층 퍼셉트론으로는 XOR 게이트를 구현하는 것이 불가능하지만, 층을 더 쌓으면 이를 구현할 수 있다.\n",
    "\n",
    "<img src=\"https://raw.githubusercontent.com/qingkaikong/blog/master/40_ANN_part3_step_by_step_MLP/figures/figure1_Perceptron_limitation.jpg\" height=\"250px\" width=\"500px\">\n",
    "\n",
    "<img src=\"https://wikidocs.net/images/page/24958/xorgraphandxorgate.PNG\" height=\"250px\" width=\"450px\">\n",
    "\n",
    "따라서 이러한 한계를 극복하기 위해 나온 다층 신경망(Multi-Layer Perceptron)은 입력층과 출력층 사이에 한개 이상의 은닉층(hidden layer)을 추가했다. 기존 단층 퍼셉트론인 AND, NAND, OR 게이트를 조합하여 XOR 게이트를 구현한 게 다층 퍼셉트론의 예다. 또한, 은닉층이 많아질수록 더 복잡한 형태의 데이터를 다룰 수 있고, 은닉층이 2개 이상인 신경망을 심층 신경망(Deep Neural Network)이라고 한다. 다층 신경망의 활성화 함수 또한 단층 퍼셉트론의 계단함수에서 조금 더 복잡한 시그모이드나 tanh 함수를 이용하고, 오차를 줄이기 위해 경사하강법(gradient descendent), 역전파(backpropagation) 등이 등장했다.\n",
    "\n",
    "<img src=\"https://wikidocs.net/images/page/24958/perceptron_4image.jpg\" height=\"250px\" width=\"300px\">\n",
    "\n",
    "<img src=\"https://www.researchgate.net/publication/354817375/figure/fig2/AS:1071622807097344@1632506195651/Multi-layer-perceptron-MLP-NN-basic-Architecture.jpg\" height=\"250px\" width=\"500px\">"
   ]
  },
  {
   "cell_type": "markdown",
   "metadata": {},
   "source": [
    "##### 시그모이드 함수(Sigmoid Function)\n",
    "다층 신경망의 학습 중 역전파(backpropagation) 알고리즘은 경사하강법(gradient desendent)을 사용하는데, 이때 활성화 함수가 미분가능해야 한다. 시그모이드 함수는 미분가능하고, 계단함수와 달리 내부값의 차이를 표현할 수 있다. 즉, 시그모이드는 신경망의 내부값에 따라 0과 1 사이의 값을 출력하기 때문에 계단 함수에 비해 다양한 오차를 계산할 수 있다. 또한, 0과 1 사이의 확률로 나타내기 때문에 입력값의 의미를 더 잘 표현할 수 있게 된다.\n",
    "\n",
    "그러나 주황색 부분과 같이 기울기가 0에 가까워지면, 역전파 과정에서 학습효과가 떨어지는 기울기 소실(vanishing gradient) 문제가 발생한다. 신경망의 층이 깊어지면 앞단에서는 거의 기울기를 전파받을 수 없게 되고, 매개변수 $w$가 업데이트 되지 않아 학습이 되지 않는다. 또한, 중심점이 0이 아니고 항상 양수의 값을 출력하기 때문에 연결가중치의 학습과정이 지그재그 패턴으로 나타나 비효율적이다.\n",
    "\n",
    "<img src=\"https://wikidocs.net/images/page/60683/%EC%8B%9C%EA%B7%B8%EB%AA%A8%EC%9D%B4%EB%93%9C%ED%95%A8%EC%88%981.PNG\" height=\"250px\" width=\"370px\">\n",
    "<img src=\"https://wikidocs.net/images/page/60683/%EC%8B%9C%EA%B7%B8%EB%AA%A8%EC%9D%B4%EB%93%9C%ED%95%A8%EC%88%982.PNG\" height=\"250px\" width=\"370px\">\n",
    "<img src=\"https://www.ejable.com/wp-content/uploads/2022/04/vanishing-gradient-problem.webp\" height=\"250px\" width=\"350px\">\n",
    "\n",
    "\n",
    "##### 하이퍼볼릭탄젠트 함수(Hyperbolic Tangent Function)\n",
    "tanh 함수는 시그모이드 함수의 장점을 그대로 가져오면서 입력값을 -1과 1 사이의 값으로 변환하기 때문에 non zero 문제를 해결할 수 있다. 시그모이드 함수와 비교하여 출력값의 변화폭이 더 크기 때문에 기울기 소실 증상이 적어 시그모이드 함수보다는 많이 사용되지만, 여전히 killing gradient 이슈를 해결할 수는 없다.\n",
    "\n",
    "<img src=\"https://storage.googleapis.com/skytowner_public/images/EocgEfUyUROUmozW2PGJ/image_1627544541256.png\" height=\"250px\" width=\"370px\">\n",
    "\n",
    "##### 렐루 함수(ReLU Function)\n",
    "인공신경망에서 가장 인기가 많은 함수로, $f(x)=max(0, x)$의 간단한 수식을 가지고 있다. 양수에서 함수의 기울기가 1로 고정이 되어 있어서 기울기 소실 문제가 발생하지 않는다. 이는 신경망의 깊은 층까지 역전파를 통한 학습을 가능케 한다. 그러나 입력값이 음수일 경우 기울기가 0이 되어서 시경망 학습이 진행되지 않는 dying ReLu 문제가 있다. 이를 극복하기 위해 리키 렐루(Leaky ReLU)는 음수 입력값에 매우 작은 기울기를 줘서 음수일 경우에도 학습이 가능하게 했다. 또다른 변형인 PReLU는 음수 기울기를 $a$라는 변수를 줘서 학습모델에 따라 유동적으로 학습 효율을 높일 수 있게 했다. ELU는 음수 입력값 부분을 곡선이 들어간 exponential 함수를 사용하여 보다 빠르고 정확한 학습을 가능하게 한다.\n",
    "\n",
    "<img src=\"https://www.nomidl.com/wp-content/uploads/2022/04/image-10.png\" height=\"250px\" width=\"370px\"><br>\n",
    "<img src=\"https://www.jmis.org/journal/jmis/jmis-9-1/gif/jmis-9-1-21-g4.gif\" height=\"800px\" width=\"370px\">"
   ]
  },
  {
   "cell_type": "markdown",
   "metadata": {},
   "source": [
    "##### XOR Practice\n",
    "- step 1: feedforward\n",
    "- step 2: MSE 계산\n",
    "- step 3: backpropagation\n",
    "\n",
    "<img src=\"https://blog.kakaocdn.net/dn/boE4hd/btrkekMQ95U/eMSv1re1trFNlD91fkaSz0/img.png\" height=\"270px\" width=\"500px\">"
   ]
  },
  {
   "cell_type": "code",
   "execution_count": 1,
   "metadata": {},
   "outputs": [
    {
     "name": "stdout",
     "output_type": "stream",
     "text": [
      "[0 1]\n",
      "1\n"
     ]
    }
   ],
   "source": [
    "import numpy as np\n",
    "\n",
    "class MLP:\n",
    "  def __init__(self, input_size, hidden_size, output_size):\n",
    "    self.input_size = input_size\n",
    "    self.hidden_size = hidden_size\n",
    "    self.output_size = output_size\n",
    "\n",
    "    # 가중치 초기화\n",
    "    self.w1_w2 = np.random.random((self.input_size, self.hidden_size)) # (2, 2)\n",
    "    self.w3 = np.random.random((self.hidden_size, self.output_size)) # (2, 1)\n",
    "\n",
    "  def sigmoid(self, X):\n",
    "    return 1 / (1 + np.exp(-X))\n",
    "\n",
    "  def feed_forward(self, X):\n",
    "    self.z1_z2 = np.dot(X, self.w1_w2)\n",
    "    self.h = self.sigmoid(self.z1_z2)\n",
    "    self.z3 = np.dot(self.h, self.w3)\n",
    "    self.o = self.sigmoid(self.z3)\n",
    "    return self.o\n",
    "\n",
    "  def mse_loss(self, y_true, y_pred):\n",
    "    return np.mean((y_true - y_pred)**2)\n",
    "\n",
    "  def back_propagation(self, X, y, y_pred, learning_rate):\n",
    "    dc_do1 = -2 * (y-y_pred)\n",
    "    do1_dz3 = y_pred * (1-y_pred)\n",
    "    dz3_dw3 = self.h\n",
    "    dc_dw3 = dc_do1 * do1_dz3 * dz3_dw3\n",
    "    self.w3 = self.w3 + learning_rate * -dc_dw3.T\n",
    "    dc_dw1_w2 = dc_do1 * do1_dz3 * np.dot(self.w3 * (self.h * (1-self.h)).T, X)\n",
    "    \n",
    "    self.w1_w2 = self.w1_w2 + learning_rate * -dc_dw1_w2.T\n",
    "  \n",
    "  def train(self, X_train, y_train, epochs, learning_rate):\n",
    "    for epoch in range(epochs):\n",
    "      for i in range(len(X_train)):\n",
    "        y_pred = self.feed_forward([X_train[i]])\n",
    "        loss = self.mse_loss([y_train[i]], y_pred)\n",
    "        self.back_propagation([X_train[i]], [y_train[i]], y_pred, learning_rate)\n",
    "      if np.mod(epoch, 100) == 0:\n",
    "        print('epoch=', epoch, 'loss=', loss)\n",
    "\n",
    "X_train = np.random.randint(0, 2, (100,2))\n",
    "y_train = (X_train[:, 0] != X_train[:, 1]).astype(int)\n",
    "\n",
    "print(X_train[1])\n",
    "print(y_train[1])"
   ]
  },
  {
   "cell_type": "code",
   "execution_count": 2,
   "metadata": {},
   "outputs": [
    {
     "name": "stdout",
     "output_type": "stream",
     "text": [
      "epoch= 0 loss= 0.23773117223155296\n",
      "epoch= 100 loss= 0.12259460701082711\n",
      "epoch= 200 loss= 0.06840692054466402\n",
      "epoch= 300 loss= 0.04249400240738107\n",
      "epoch= 400 loss= 0.029940248776123217\n",
      "epoch= 500 loss= 0.022813630958926596\n",
      "epoch= 600 loss= 0.01830118051611981\n",
      "epoch= 700 loss= 0.015217033227965051\n",
      "epoch= 800 loss= 0.01298833216362914\n",
      "epoch= 900 loss= 0.011308538129464321\n"
     ]
    }
   ],
   "source": [
    "mlp = MLP(input_size=2, hidden_size=2, output_size=1)\n",
    "mlp.train(X_train, y_train, epochs=1000, learning_rate=0.1)"
   ]
  },
  {
   "cell_type": "code",
   "execution_count": 4,
   "metadata": {},
   "outputs": [
    {
     "name": "stdout",
     "output_type": "stream",
     "text": [
      "Predicted Output: [[0 0]] [[0.05454398]]\n",
      "Predicted Output: [[1 0]] [[0.90521551]]\n",
      "Predicted Output: [[0 1]] [[0.88902697]]\n",
      "Predicted Output: [[1 1]] [[0.13449339]]\n"
     ]
    }
   ],
   "source": [
    "# 테스트 값으로 모델값 예측\n",
    "test_input = np.array([[0, 0]])\n",
    "predicted_output = mlp.feed_forward(test_input)\n",
    "print(\"Predicted Output:\", test_input, predicted_output)\n",
    "test_input = np.array([[1, 0]])\n",
    "predicted_output = mlp.feed_forward(test_input)\n",
    "print(\"Predicted Output:\", test_input, predicted_output)\n",
    "test_input = np.array([[0, 1]])\n",
    "predicted_output = mlp.feed_forward(test_input)\n",
    "print(\"Predicted Output:\", test_input, predicted_output)\n",
    "test_input = np.array([[1, 1]])\n",
    "predicted_output = mlp.feed_forward(test_input)\n",
    "print(\"Predicted Output:\", test_input, predicted_output)"
   ]
  },
  {
   "cell_type": "markdown",
   "metadata": {},
   "source": [
    "##### MNIST Classification Practice"
   ]
  },
  {
   "cell_type": "code",
   "execution_count": 23,
   "metadata": {},
   "outputs": [],
   "source": [
    "import matplotlib.pyplot as plt\n",
    "from sklearn.model_selection import train_test_split\n",
    "from sklearn.neural_network import MLPClassifier"
   ]
  },
  {
   "cell_type": "code",
   "execution_count": 26,
   "metadata": {},
   "outputs": [
    {
     "name": "stdout",
     "output_type": "stream",
     "text": [
      ".. _digits_dataset:\n",
      "\n",
      "Optical recognition of handwritten digits dataset\n",
      "--------------------------------------------------\n",
      "\n",
      "**Data Set Characteristics:**\n",
      "\n",
      "    :Number of Instances: 1797\n",
      "    :Number of Attributes: 64\n",
      "    :Attribute Information: 8x8 image of integer pixels in the range 0..16.\n",
      "    :Missing Attribute Values: None\n",
      "    :Creator: E. Alpaydin (alpaydin '@' boun.edu.tr)\n",
      "    :Date: July; 1998\n",
      "\n",
      "This is a copy of the test set of the UCI ML hand-written digits datasets\n",
      "https://archive.ics.uci.edu/ml/datasets/Optical+Recognition+of+Handwritten+Digits\n",
      "\n",
      "The data set contains images of hand-written digits: 10 classes where\n",
      "each class refers to a digit.\n",
      "\n",
      "Preprocessing programs made available by NIST were used to extract\n",
      "normalized bitmaps of handwritten digits from a preprinted form. From a\n",
      "total of 43 people, 30 contributed to the training set and different 13\n",
      "to the test set. 32x32 bitmaps are divided into nonoverlapping blocks of\n",
      "4x4 and the number of on pixels are counted in each block. This generates\n",
      "an input matrix of 8x8 where each element is an integer in the range\n",
      "0..16. This reduces dimensionality and gives invariance to small\n",
      "distortions.\n",
      "\n",
      "For info on NIST preprocessing routines, see M. D. Garris, J. L. Blue, G.\n",
      "T. Candela, D. L. Dimmick, J. Geist, P. J. Grother, S. A. Janet, and C.\n",
      "L. Wilson, NIST Form-Based Handprint Recognition System, NISTIR 5469,\n",
      "1994.\n",
      "\n",
      "|details-start|\n",
      "**References**\n",
      "|details-split|\n",
      "\n",
      "- C. Kaynak (1995) Methods of Combining Multiple Classifiers and Their\n",
      "  Applications to Handwritten Digit Recognition, MSc Thesis, Institute of\n",
      "  Graduate Studies in Science and Engineering, Bogazici University.\n",
      "- E. Alpaydin, C. Kaynak (1998) Cascading Classifiers, Kybernetika.\n",
      "- Ken Tang and Ponnuthurai N. Suganthan and Xi Yao and A. Kai Qin.\n",
      "  Linear dimensionalityreduction using relevance weighted LDA. School of\n",
      "  Electrical and Electronic Engineering Nanyang Technological University.\n",
      "  2005.\n",
      "- Claudio Gentile. A New Approximate Maximal Margin Classification\n",
      "  Algorithm. NIPS. 2000.\n",
      "\n",
      "|details-end|\n"
     ]
    }
   ],
   "source": [
    "from sklearn.datasets import load_digits\n",
    "digits = load_digits()\n",
    "print(digits.DESCR)"
   ]
  },
  {
   "cell_type": "code",
   "execution_count": 36,
   "metadata": {},
   "outputs": [
    {
     "data": {
      "text/plain": [
       "array([0, 1, 2, 3, 4, 5, 6, 7, 8, 9])"
      ]
     },
     "execution_count": 36,
     "metadata": {},
     "output_type": "execute_result"
    }
   ],
   "source": [
    "X = digits['images']\n",
    "y = digits['target']\n",
    "target_names = digits['target_names']\n",
    "target_names"
   ]
  },
  {
   "cell_type": "code",
   "execution_count": 39,
   "metadata": {},
   "outputs": [
    {
     "data": {
      "image/png": "[encoded data removed]",
      "text/plain": [
       "<Figure size 600x600 with 18 Axes>"
      ]
     },
     "metadata": {},
     "output_type": "display_data"
    }
   ],
   "source": [
    "# Display sample data\n",
    "fig = plt.figure(figsize=(6, 6)) \n",
    "fig.subplots_adjust(left=0, right=1, bottom=0, top=1, hspace=0.05, wspace=0.05)\n",
    "\n",
    "for i in range(18):\n",
    "    ax = fig.add_subplot(5, 6, i + 1, xticks=[], yticks=[])\n",
    "    ax.imshow(X[i], cmap=plt.cm.binary, interpolation='nearest')\n",
    "    # label the image with the target value\n",
    "    ax.text(0, 7, str(y[i]))"
   ]
  },
  {
   "cell_type": "code",
   "execution_count": 40,
   "metadata": {},
   "outputs": [
    {
     "name": "stdout",
     "output_type": "stream",
     "text": [
      "(1797, 8, 8)\n",
      "(1797,)\n"
     ]
    }
   ],
   "source": [
    "print(X.shape)\n",
    "print(y.shape)"
   ]
  },
  {
   "cell_type": "code",
   "execution_count": 41,
   "metadata": {},
   "outputs": [
    {
     "name": "stdout",
     "output_type": "stream",
     "text": [
      "(1797, 64)\n"
     ]
    }
   ],
   "source": [
    "# 8x8 -> 64 픽셀값을 가진 배열로 변환\n",
    "n_samples = len(X)\n",
    "X = X.reshape((n_samples, -1))\n",
    "print(X.shape)"
   ]
  },
  {
   "cell_type": "code",
   "execution_count": 42,
   "metadata": {},
   "outputs": [
    {
     "name": "stdout",
     "output_type": "stream",
     "text": [
      "(1437, 64)\n",
      "(360, 64)\n"
     ]
    }
   ],
   "source": [
    "X_tn, X_te, y_tn, y_te = train_test_split(X, y, test_size=0.2, random_state=14)\n",
    "print(X_tn.shape)\n",
    "print(X_te.shape)"
   ]
  },
  {
   "cell_type": "code",
   "execution_count": 44,
   "metadata": {},
   "outputs": [
    {
     "name": "stdout",
     "output_type": "stream",
     "text": [
      "Train Accuracy = 1.0\n",
      "Test Accuracy = 0.9833333333333333\n"
     ]
    }
   ],
   "source": [
    "clf_mlp = MLPClassifier()\n",
    "clf_mlp.fit(X_tn, y_tn)\n",
    "\n",
    "print(f'Train Accuracy = {clf_mlp.score(X_tn, y_tn)}')\n",
    "print(f'Test Accuracy = {clf_mlp.score(X_te, y_te)}')"
   ]
  },
  {
   "cell_type": "code",
   "execution_count": 45,
   "metadata": {},
   "outputs": [
    {
     "name": "stdout",
     "output_type": "stream",
     "text": [
      "Total Iteration done :  149\n",
      "Number of layer :  3\n",
      "Number of output :  10\n"
     ]
    }
   ],
   "source": [
    "print(\"Total Iteration done : \", clf_mlp.n_iter_)\n",
    "print(\"Number of layer : \", clf_mlp.n_layers_)\n",
    "print(\"Number of output : \", clf_mlp.n_outputs_)"
   ]
  }
 ],
 "metadata": {
  "kernelspec": {
   "display_name": "hira",
   "language": "python",
   "name": "python3"
  },
  "language_info": {
   "codemirror_mode": {
    "name": "ipython",
    "version": 3
   },
   "file_extension": ".py",
   "mimetype": "text/x-python",
   "name": "python",
   "nbconvert_exporter": "python",
   "pygments_lexer": "ipython3",
   "version": "3.10.13"
  }
 },
 "nbformat": 4,
 "nbformat_minor": 2
}
